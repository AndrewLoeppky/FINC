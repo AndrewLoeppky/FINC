{
 "cells": [
  {
   "cell_type": "markdown",
   "id": "8fc70cb9",
   "metadata": {},
   "source": [
    "# Baysian INP Simulator\n",
    "\n",
    "## Andrew Loeppky\n",
    "\n",
    "## Still somehow at UBC, 2022"
   ]
  },
  {
   "cell_type": "code",
   "execution_count": 1,
   "id": "e2e75463",
   "metadata": {},
   "outputs": [],
   "source": [
    "import numpy as np\n",
    "import matplotlib.pyplot as plt"
   ]
  },
  {
   "cell_type": "markdown",
   "id": "ddb2e93f",
   "metadata": {},
   "source": [
    "As with any Baysian analysis, we always stary by putting Bayes' theorem on paper (Phil Gregory Notation):\n",
    "\n",
    "$$\n",
    "P(H|D,I) = \\frac{P(H|I)P(D|H,I)}{P(D|I)}\n",
    "$$\n",
    "\n",
    "Hypothesis here is as follows:\n",
    "\n",
    "*A droplet under observation will spontaneously freeze, owing to the existence of a critical ice germ.*\n",
    "\n",
    "What is a critical ice germ? \n",
    "\n",
    "*A small cluster of ice such that the addition of mass/bulk via freezing of the surrounding liquid decreases the Gibbs free energy ($d\\Delta G^*/dr < 0$)*\n",
    "\n",
    "Classical nucleation theory, wikipedia notation:\n",
    "\n",
    "$$\n",
    "R = N_sZj\\cdot exp\\left(\\frac{\\Delta G^*}{k_BT}\\right)\n",
    "$$\n",
    "\n",
    "Write out $\\Delta G^*$ for homogeneous freezing (spherical germs with pure water surface and bulk energies)\n",
    "\n",
    "$$\n",
    "\\Delta G^{hom} = \\frac{4}{3}\\pi ln(S) r^3 + 4\\pi\\sigma r^2  \n",
    "$$\n",
    "\n",
    "\n",
    "Energy terms as empirical functions of temperature:\n",
    "\n",
    "$\n",
    "\\sigma_{i,w} = 189.081 + 13.1625T + 0.3469T^2+ (3.12\\cdot10^{−3})T^3\n",
    "$\n",
    "\n",
    "$\n",
    "ln(e_{s,i}) = 9.550426−(5723.265T^{−1}) + 3.53068  ln(T)−0.00728332T\n",
    "$\n",
    "\n",
    "$\n",
    "ln(e_{s,w}) = 54.842763−6763.22T^{−1} − 4.21ln(T) + 0.000367T + tanh(0.0415(T−218.8))(53.878−1331.22T^{−1} − 9.44523  ln(T) + 0.014025T)\n",
    "$\n",
    "\n",
    "where $S$ is defined as $e_{s,w}/e_{s,i}$. (aside: Who's parameterizations are these?? source in Wang 2013...)\n"
   ]
  }
 ],
 "metadata": {
  "kernelspec": {
   "display_name": "Python 3 (ipykernel)",
   "language": "python",
   "name": "python3"
  },
  "language_info": {
   "codemirror_mode": {
    "name": "ipython",
    "version": 3
   },
   "file_extension": ".py",
   "mimetype": "text/x-python",
   "name": "python",
   "nbconvert_exporter": "python",
   "pygments_lexer": "ipython3",
   "version": "3.8.12"
  }
 },
 "nbformat": 4,
 "nbformat_minor": 5
}
