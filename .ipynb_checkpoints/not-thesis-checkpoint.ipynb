{
 "cells": [
  {
   "cell_type": "markdown",
   "id": "7173cf62",
   "metadata": {},
   "source": [
    "# Sketch of the thesis I never wrote\n",
    "\n",
    "## Abstract\n",
    "\n",
    "A brief description and history of INP research is given. We then review classical nucleation theory, some experimental data, and discuss some attempts (and failures) to reconcile the two. Using Baysian statistics, we improve on Vali's analysis using maximum likelihood fitting techniques to determine the paremeters necessary to describe an INP. Finally, we apply our techniques to droplet real freezing experiment data and contrast our interpretation with previous literature.\n",
    "\n",
    "## Intro: The water cycle\n",
    " \n",
    "I thought we had this down...\n",
    "\n",
    "## Literature Review: What we know so far (and what we don't)\n",
    "\n",
    "Water doesn't freeze at zero degrees, which is shocking to most. Phase transitions are problematic in thermodynamics. Numerous approaches have been tried, but this problem exists in an awkward spatial scale, somewhere between molecular physics and continuum thermodynamics, neither of which are particularly adept on their own at describing phase transitions anyway. We elect to use boltzmann statistics, for similar reasons that boltzmann originally developed it (he got into a tilt with his supervisor).\n",
    "\n",
    "## CNT and Homogeneous Freezing\n",
    "\n",
    "CNT works pretty well for vapor-liquid transitions (CCN's are well described, see kelvin-kohler theory). This is because gaseous molecules are super far apart, and liquid ones are really close together, and there is a clear difference between the two states. It is also important that we have a solid description of surface tension in water. (although atmospheric surfactants, which alter the surface tension of droplets, may be overlooked in current models). Liquid-solid transitions are less straightforward. Ice and water vary only 9% in molecular spacing (ie density, and in the wrong direction), and the distinction between the two states is a bit blurry. Literature talks about quasi-ice, quasi-liquid layers, transitional ice, disordered stacking, pre-ice, etc., mostly to no avail. Nevertheless, CNT attempts to model the system as bulk ice, interfacial tension, and bulk water. We define a critical ice nuclei as the minimum size cluster of water (pre-ice, or whatever) molecules required to spontaneously freeze.\n",
    "\n",
    "Figure: For various degrees of supercooling of pure water, how large must a critical ice nuclei be to support spontaneous freezing, and how often would this occur in a typical cloud droplet? (re-use Lohmann assignment here)\n",
    "\n",
    "## Heterogenous Freezing Experiments\n",
    "\n",
    "We observe water freezing at \"high\" temperatures all the time, so something must be causing it (INPs!). Numerous attempts have been made to measure the effectiveness of different substances to act as INPs. We will focus on an experiment posed by Vali in 1969. Divide water into \"small\" samples (this can be difficult, cloud droplets are *really* small, and surprisingly difficult to manufacture in the laboratory), cool them down and count how many of the samples freeze at a number of temperature intervals. Then, use poisson statistics to deduce the concentration of various species of INP, each of which are described by a characteristic freezing temperature. This doesn't work quite as well as we would hope, for a few reasons:\n",
    "\n",
    "- characteristic temperature alone doesn't fully describe how heterogeneous freezing actually works. \n",
    "\n",
    "We can ask the question: \"how long does an INP need to be at it's characteristic temperature (or how close to it) in order to activate?\" Numerous experiments have been done to try to solve this one, many of them tragically flawed. Some gave rise to the \"singular approximation\" which says \"not very long and very close\" essentially that freezing happens nearly instantly as we approach within a narrow range near the characteristic temperature. This assumption is bold, and wrong, and completely inappropriate given our complete lack of a mechanistic description of how freezing actually takes place (hot take). \n",
    "\n",
    "Research has shown that large or rough particles (ie with lots of surface area) tend to be better INPs than small and/or smooth ones. The idea of \"active sites\" was proposed to explain this. A large particle might be host to numerous ice embryos, any of which could reach critical size and cause the sample to freeze. There are a number of ideas of what might constitute an active site - step discontinuities, changes in hydrophobicity, microscopic pits, whatever. The probability of an INP \"working\" scales with the number of active sites. Even if each site has a relatively low probability of freezing, a large number of sites could still result in a high overall ice nucleating ability. But-- \n",
    "\n",
    "- introducing these additional parameters violates some of the assumptions we made in the original analysis\n",
    "\n",
    "The first one is obvious. If we are allowing for a large number of \"low probability\" sites adding up to a high macroscopic freezing potential, we have clearly violated the singular approximation, because it states exactly the opposte. The second violation is more subtle. In Vali's equation (#), we said that INP's are poisson distrubuted, which is valid only for \"rare\" events in counting experiments. In this case we are counting the frequency of occurances of INP's in wells, and assuming that it is unlikely to find more than one INP per well. If there are numerous (like, more than 2) sites per particle, we can't use poisson statistics anymore.\n",
    "\n",
    "In addition, real experiments always have a background freezing temperature above the homogeneous freezing limit, which makes for even more difficult interpretations of data. Describing INPs by their characteristic temperature and active site density doesnt work very well. What does?\n",
    "\n",
    "## Reinterpreting CNT\n",
    "\n",
    "We need a theory that allows for low-probability, high frequency events, and also remains agnostic about the nature of an active site. Non-singular theory considers \"probability of freezing, per unit time, at a given temperature.\" This is much more scientific. Lets look at what all the parameters of CNT actually mean\n",
    "\n",
    "$$\n",
    "F = Zabc \\cdot e^{\\frac{\\Delta G}{k_bT}}\n",
    "$$\n",
    "\n",
    "Number of frozen particles = Number of sites * probability / time * time, which carries the same units as our CNT equation. The prefactor scales with active site number, $k_n$ is a fundamental constant of the universe, and $T$ is our manipulated variable. So we have two free parameters in this equation, which we can estimate using the same experimental data as before. \n",
    "\n",
    "We should also be more honest about how much we actually know about what is going on at active sites (pretty much nothing). If we are considering molecular steps or something, it is perfectly reasonable that each step might quasi-continuously vary in size or crystalline structure or something, so we should allow for a distribution of possibilities. Baysian statistics will work well here.\n",
    "\n",
    "ML fit the CNT parameters to data\n",
    "\n",
    "### Single Species INP\n",
    "\n",
    "keep it simple and only consider one species of INP for now. We can define a \"species\" however we like, since we are allowing for distributions of active sites (figure supporting this). The ML fit produces a 2d confidence field, assigning probabilities to $\\Delta G$, $Z$ combinations. Note we also need to make sure that our experiment is completely saturated with INP's, so there is no chance we are measuring the background (alternately, just treat the background as an INP species and measure that). Run this algorithm for as many species as you like.\n",
    "\n",
    "### Multiple Species\n",
    "\n",
    "Run a classifier? Idk"
   ]
  }
 ],
 "metadata": {
  "kernelspec": {
   "display_name": "Python 3",
   "language": "python",
   "name": "python3"
  },
  "language_info": {
   "codemirror_mode": {
    "name": "ipython",
    "version": 3
   },
   "file_extension": ".py",
   "mimetype": "text/x-python",
   "name": "python",
   "nbconvert_exporter": "python",
   "pygments_lexer": "ipython3",
   "version": "3.10.1"
  }
 },
 "nbformat": 4,
 "nbformat_minor": 5
}
